{
 "cells": [
  {
   "cell_type": "code",
   "execution_count": null,
   "metadata": {},
   "outputs": [],
   "source": [
    "import torch\n",
    "import torch.nn as nn\n",
    "import torch.optim as optim\n",
    "import networkx as nx\n",
    "import random\n",
    "import numpy as np\n",
    "from sklearn.manifold import TSNE\n",
    "import matplotlib.pyplot as plt\n",
    "from gensim.models import Word2Vec\n",
    "from node2vec import Node2Vec"
   ]
  },
  {
   "cell_type": "code",
   "execution_count": null,
   "metadata": {},
   "outputs": [],
   "source": [
    "# Load Karate Club Graph\n",
    "graph = nx.karate_club_graph()\n",
    "nodes = list(graph.nodes())"
   ]
  },
  {
   "cell_type": "code",
   "execution_count": null,
   "metadata": {},
   "outputs": [],
   "source": [
    "# Parameters\n",
    "num_walks = 10  # Number of random walks per node\n",
    "walk_length = 10  # Length of each random walk\n",
    "embedding_dim = 128  # Embedding size\n",
    "num_epochs = 50\n",
    "learning_rate = 0.01"
   ]
  },
  {
   "cell_type": "code",
   "execution_count": null,
   "metadata": {},
   "outputs": [],
   "source": [
    "# Generate random walks\n",
    "def generate_random_walks(graph, num_walks, walk_length):\n",
    "    walks = []\n",
    "    for _ in range(num_walks):\n",
    "        for node in graph.nodes():\n",
    "            walk = [node]\n",
    "            for _ in range(walk_length - 1):\n",
    "                neighbors = list(graph.neighbors(walk[-1]))\n",
    "                if neighbors:\n",
    "                    walk.append(random.choice(neighbors))\n",
    "                else:\n",
    "                    break\n",
    "            walks.append(walk)\n",
    "    return walks\n",
    "\n",
    "walks = generate_random_walks(graph, num_walks, walk_length)"
   ]
  },
  {
   "cell_type": "code",
   "execution_count": null,
   "metadata": {},
   "outputs": [],
   "source": [
    "# Convert walks to training pairs\n",
    "positive_pairs = []\n",
    "for walk in walks:\n",
    "    for i, node in enumerate(walk):\n",
    "        for j in range(max(0, i - 2), min(len(walk), i + 3)):\n",
    "            if i != j:\n",
    "                positive_pairs.append((node, walk[j]))"
   ]
  },
  {
   "cell_type": "code",
   "execution_count": null,
   "metadata": {},
   "outputs": [],
   "source": [
    "# Negative sampling\n",
    "all_nodes = set(graph.nodes())\n",
    "negative_pairs = []\n",
    "for node1, node2 in positive_pairs:\n",
    "    while True:\n",
    "        neg_sample = random.choice(nodes)\n",
    "        if neg_sample != node1 and neg_sample not in graph.neighbors(node1):\n",
    "            negative_pairs.append((node1, neg_sample))\n",
    "            break"
   ]
  },
  {
   "cell_type": "code",
   "execution_count": null,
   "metadata": {},
   "outputs": [],
   "source": [
    "# Prepare training data\n",
    "train_data = positive_pairs + negative_pairs\n",
    "train_labels = [1] * len(positive_pairs) + [0] * len(negative_pairs)\n",
    "\n",
    "# Convert to PyTorch tensors\n",
    "train_data = torch.tensor(train_data, dtype=torch.long)\n",
    "train_labels = torch.tensor(train_labels, dtype=torch.float32)"
   ]
  },
  {
   "cell_type": "code",
   "execution_count": null,
   "metadata": {},
   "outputs": [],
   "source": [
    "# Define Neural Network\n",
    "class NodeEmbeddingNN(nn.Module):\n",
    "    def __init__(self, num_nodes, embedding_dim):\n",
    "        super(NodeEmbeddingNN, self).__init__()\n",
    "        self.embeddings = nn.Embedding(num_nodes, embedding_dim)\n",
    "\n",
    "    def forward(self, node_pairs):\n",
    "        node1 = self.embeddings(node_pairs[:, 0])\n",
    "        node2 = self.embeddings(node_pairs[:, 1])\n",
    "        return (node1 * node2).sum(dim=1)"
   ]
  },
  {
   "cell_type": "code",
   "execution_count": null,
   "metadata": {},
   "outputs": [],
   "source": [
    "# Model Initialization\n",
    "model = NodeEmbeddingNN(len(nodes), embedding_dim)\n",
    "optimizer = optim.Adam(model.parameters(), lr=learning_rate)\n",
    "loss_function = nn.BCEWithLogitsLoss()"
   ]
  },
  {
   "cell_type": "code",
   "execution_count": null,
   "metadata": {},
   "outputs": [],
   "source": [
    "# Training Loop\n",
    "for epoch in range(num_epochs):\n",
    "    optimizer.zero_grad()\n",
    "    outputs = model(train_data)\n",
    "    loss = loss_function(outputs, train_labels)\n",
    "    loss.backward()\n",
    "    optimizer.step()\n",
    "    if epoch % 10 == 0:\n",
    "        print(f\"Epoch {epoch}, Loss: {loss.item():.4f}\")"
   ]
  },
  {
   "cell_type": "code",
   "execution_count": null,
   "metadata": {},
   "outputs": [],
   "source": [
    "# Extract learned embeddings\n",
    "embeddings = model.embeddings.weight.detach().numpy()"
   ]
  },
  {
   "cell_type": "code",
   "execution_count": null,
   "metadata": {},
   "outputs": [],
   "source": [
    "# t-SNE Visualization\n",
    "def plot_embeddings(embeddings, graph):\n",
    "    tsne = TSNE(n_components=2)\n",
    "    embeddings_2d = tsne.fit_transform(embeddings)\n",
    "    plt.figure(figsize=(8, 6))\n",
    "    for i, label in enumerate(graph.nodes()):\n",
    "        plt.scatter(embeddings_2d[i, 0], embeddings_2d[i, 1], label=label)\n",
    "    plt.show()"
   ]
  },
  {
   "cell_type": "code",
   "execution_count": null,
   "metadata": {},
   "outputs": [],
   "source": [
    "plot_embeddings(embeddings, graph)"
   ]
  },
  {
   "cell_type": "code",
   "execution_count": null,
   "metadata": {},
   "outputs": [],
   "source": [
    "# Compare with DeepWalk\n",
    "print(\"Training DeepWalk...\")\n",
    "deepwalk_model = Word2Vec(sentences=walks, vector_size=embedding_dim, window=5, min_count=1, sg=1, workers=4)\n",
    "deepwalk_embeddings = np.array([deepwalk_model.wv[str(node)] for node in nodes])\n",
    "plot_embeddings(deepwalk_embeddings, graph)"
   ]
  },
  {
   "cell_type": "code",
   "execution_count": null,
   "metadata": {},
   "outputs": [],
   "source": [
    "# Compare with Node2Vec\n",
    "print(\"Training Node2Vec...\")\n",
    "node2vec = Node2Vec(graph, dimensions=embedding_dim, walk_length=walk_length, num_walks=num_walks, workers=4)\n",
    "node2vec_model = node2vec.fit(window=5, min_count=1, sg=1)\n",
    "node2vec_embeddings = np.array([node2vec_model.wv[str(node)] for node in nodes])\n",
    "plot_embeddings(node2vec_embeddings, graph)"
   ]
  }
 ],
 "metadata": {
  "kernelspec": {
   "display_name": "base",
   "language": "python",
   "name": "python3"
  },
  "language_info": {
   "codemirror_mode": {
    "name": "ipython",
    "version": 3
   },
   "file_extension": ".py",
   "mimetype": "text/x-python",
   "name": "python",
   "nbconvert_exporter": "python",
   "pygments_lexer": "ipython3",
   "version": "3.11.5"
  }
 },
 "nbformat": 4,
 "nbformat_minor": 2
}
